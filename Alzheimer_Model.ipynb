{
  "metadata": {
    "kernelspec": {
      "name": "python3",
      "display_name": "Python 3"
    },
    "language_info": {
      "name": "python",
      "version": "3.10.12",
      "mimetype": "text/x-python",
      "codemirror_mode": {
        "name": "ipython",
        "version": 3
      },
      "pygments_lexer": "ipython3",
      "nbconvert_exporter": "python",
      "file_extension": ".py"
    },
    "colab": {
      "provenance": [],
      "gpuType": "T4"
    },
    "kaggle": {
      "accelerator": "gpu",
      "dataSources": [
        {
          "sourceId": 4259915,
          "sourceType": "datasetVersion",
          "datasetId": 2510229
        }
      ],
      "dockerImageVersionId": 30919,
      "isInternetEnabled": true,
      "language": "python",
      "sourceType": "notebook",
      "isGpuEnabled": true
    },
    "accelerator": "GPU"
  },
  "nbformat_minor": 0,
  "nbformat": 4,
  "cells": [
    {
      "cell_type": "markdown",
      "source": [
        "## Import Semua Packages/Library yang Digunakan"
      ],
      "metadata": {
        "id": "H-z4QGlO8DC1"
      }
    },
    {
      "cell_type": "code",
      "source": [
        "import os\n",
        "import pathlib\n",
        "import zipfile\n",
        "import cv2\n",
        "from collections import Counter\n",
        "import shutil\n",
        "from sklearn.model_selection import train_test_split\n",
        "import tensorflow as tf\n",
        "import keras\n",
        "from tensorflow.keras.preprocessing.image import ImageDataGenerator\n",
        "import numpy as np\n",
        "import matplotlib.pyplot as plt\n",
        "import seaborn as sns\n",
        "from sklearn.metrics import confusion_matrix, classification_report"
      ],
      "metadata": {
        "id": "FVYwaObI8DC1",
        "trusted": true,
        "execution": {
          "iopub.status.busy": "2025-03-11T22:20:40.788108Z",
          "iopub.execute_input": "2025-03-11T22:20:40.788434Z",
          "iopub.status.idle": "2025-03-11T22:20:43.863527Z",
          "shell.execute_reply.started": "2025-03-11T22:20:40.788403Z",
          "shell.execute_reply": "2025-03-11T22:20:43.862582Z"
        }
      },
      "outputs": [],
      "execution_count": null
    },
    {
      "cell_type": "markdown",
      "source": [
        "## Data Preparation"
      ],
      "metadata": {
        "id": "TK4DvqfbYrN8"
      }
    },
    {
      "cell_type": "markdown",
      "source": [
        "### Data Loading"
      ],
      "metadata": {
        "id": "HHekw29KX4XQ"
      }
    },
    {
      "cell_type": "code",
      "source": [
        "zip_path = \"/content/Alzheimer Dataset.zip\"  # Path ke file ZIP\n",
        "extract_path = \"/content/\"  # Direktori tujuan ekstraksi\n",
        "\n",
        "# Pastikan direktori tujuan ada\n",
        "os.makedirs(extract_path, exist_ok=True)\n",
        "\n",
        "# Ekstrak file ZIP\n",
        "with zipfile.ZipFile(zip_path, 'r') as zip_ref:\n",
        "    zip_ref.extractall(extract_path)\n",
        "\n",
        "print(\"Ekstraksi selesai!\")\n"
      ],
      "metadata": {
        "id": "wIcv1F9fX4XQ",
        "trusted": true,
        "execution": {
          "iopub.status.busy": "2025-03-11T22:20:43.864717Z",
          "iopub.execute_input": "2025-03-11T22:20:43.865323Z",
          "iopub.status.idle": "2025-03-11T22:20:44.039254Z",
          "shell.execute_reply.started": "2025-03-11T22:20:43.865289Z",
          "shell.execute_reply": "2025-03-11T22:20:44.038482Z"
        },
        "colab": {
          "base_uri": "https://localhost:8080/"
        },
        "outputId": "b3cfcf14-542d-4e27-8ee4-5ec1ae9652a7"
      },
      "outputs": [
        {
          "output_type": "stream",
          "name": "stdout",
          "text": [
            "Ekstraksi selesai!\n"
          ]
        }
      ],
      "execution_count": null
    },
    {
      "cell_type": "markdown",
      "source": [
        "### Data Preprocessing"
      ],
      "metadata": {
        "id": "bFgLyQPHX98s"
      }
    },
    {
      "cell_type": "markdown",
      "source": [
        "#### Split Dataset"
      ],
      "metadata": {
        "id": "9ICO2-E0YxzD"
      }
    },
    {
      "cell_type": "code",
      "source": [
        "TRAIN_DIR = \"/content/data/train\"\n",
        "TEST_DIR = \"/content/data/val\""
      ],
      "metadata": {
        "trusted": true,
        "execution": {
          "iopub.status.busy": "2025-03-11T22:22:12.654057Z",
          "iopub.execute_input": "2025-03-11T22:22:12.654311Z",
          "iopub.status.idle": "2025-03-11T22:22:12.657824Z",
          "shell.execute_reply.started": "2025-03-11T22:22:12.654287Z",
          "shell.execute_reply": "2025-03-11T22:22:12.656994Z"
        },
        "id": "92ZtfAUd_f16"
      },
      "outputs": [],
      "execution_count": null
    },
    {
      "cell_type": "code",
      "source": [
        "training_datagen = ImageDataGenerator(\n",
        "    rescale=1./255,\n",
        "    validation_split=0.2,\n",
        ")\n",
        "\n",
        "\n",
        "test_datagen = ImageDataGenerator(rescale=1. / 255)"
      ],
      "metadata": {
        "id": "8HJokQbxX98s",
        "trusted": true,
        "execution": {
          "iopub.status.busy": "2025-03-11T22:22:12.658696Z",
          "iopub.execute_input": "2025-03-11T22:22:12.658963Z",
          "iopub.status.idle": "2025-03-11T22:22:12.675189Z",
          "shell.execute_reply.started": "2025-03-11T22:22:12.658942Z",
          "shell.execute_reply": "2025-03-11T22:22:12.674385Z"
        }
      },
      "outputs": [],
      "execution_count": null
    },
    {
      "cell_type": "code",
      "source": [
        "train_generator = training_datagen.flow_from_directory(\n",
        "                    TRAIN_DIR,\n",
        "                    target_size=(180, 180),\n",
        "                    batch_size=128,\n",
        "                    class_mode='categorical',\n",
        "                    subset='training')\n",
        "\n",
        "validation_generator = training_datagen.flow_from_directory(\n",
        "                    TRAIN_DIR,\n",
        "                    target_size=(180, 180),\n",
        "                    batch_size=128,\n",
        "                    class_mode='categorical',\n",
        "                    subset='validation')\n",
        "\n",
        "test_generator = test_datagen.flow_from_directory(\n",
        "                    TEST_DIR,\n",
        "                    batch_size=1,\n",
        "                    target_size=(180,180),\n",
        "                    class_mode='categorical',\n",
        "                    shuffle=False)"
      ],
      "metadata": {
        "trusted": true,
        "execution": {
          "iopub.status.busy": "2025-03-11T22:22:12.675958Z",
          "iopub.execute_input": "2025-03-11T22:22:12.676165Z",
          "iopub.status.idle": "2025-03-11T22:22:22.032274Z",
          "shell.execute_reply.started": "2025-03-11T22:22:12.676147Z",
          "shell.execute_reply": "2025-03-11T22:22:22.031644Z"
        },
        "colab": {
          "base_uri": "https://localhost:8080/"
        },
        "id": "dnd16Yo4_f16",
        "outputId": "6608c45c-0ce0-4c06-b5da-b44c03320f8e"
      },
      "outputs": [
        {
          "output_type": "stream",
          "name": "stdout",
          "text": [
            "Found 27188 images belonging to 4 classes.\n",
            "Found 6796 images belonging to 4 classes.\n",
            "Found 6400 images belonging to 4 classes.\n"
          ]
        }
      ],
      "execution_count": null
    },
    {
      "cell_type": "markdown",
      "source": [
        "### Membuat Callback"
      ],
      "metadata": {
        "id": "q0ohZaWB_f16"
      }
    },
    {
      "cell_type": "code",
      "source": [
        "class SaveBestModelCallback(tf.keras.callbacks.Callback):\n",
        "    def __init__(self, save_dir='best_model', monitor='val_accuracy'):\n",
        "        super(SaveBestModelCallback, self).__init__()\n",
        "        self.save_dir = save_dir\n",
        "        self.monitor = monitor\n",
        "        self.best_acc = 0.0\n",
        "\n",
        "        if not os.path.exists(self.save_dir):\n",
        "            os.makedirs(self.save_dir)\n",
        "\n",
        "    def on_epoch_end(self, epoch, logs=None):\n",
        "        if logs is None:\n",
        "            logs = {}\n",
        "        current_acc = logs.get(self.monitor)\n",
        "\n",
        "        if current_acc is not None and current_acc > self.best_acc:\n",
        "            self.best_acc = current_acc\n",
        "            model_path = os.path.join(self.save_dir, 'best_model.keras')\n",
        "            self.model.save(model_path)\n",
        "            print(f\"\\nBest model saved at epoch {epoch+1} with {self.monitor}: {current_acc:.4f}\")\n",
        "\n",
        "\n",
        "early_stopping = tf.keras.callbacks.EarlyStopping(monitor='val_accuracy', patience=10, restore_best_weights=True, mode='max')"
      ],
      "metadata": {
        "trusted": true,
        "execution": {
          "iopub.status.busy": "2025-03-11T22:22:22.033196Z",
          "iopub.execute_input": "2025-03-11T22:22:22.033496Z",
          "iopub.status.idle": "2025-03-11T22:22:22.039383Z",
          "shell.execute_reply.started": "2025-03-11T22:22:22.033464Z",
          "shell.execute_reply": "2025-03-11T22:22:22.038508Z"
        },
        "id": "IWRc-pJS_f16"
      },
      "outputs": [],
      "execution_count": null
    },
    {
      "cell_type": "markdown",
      "source": [
        "## Modelling"
      ],
      "metadata": {
        "id": "nc-Ph-oIYAUU"
      }
    },
    {
      "cell_type": "code",
      "source": [
        "model = tf.keras.models.Sequential([\n",
        "    tf.keras.layers.Input(shape=(180, 180, 3)),\n",
        "    tf.keras.layers.Conv2D(8, (3,3), activation='relu', strides=(1,1)),\n",
        "    tf.keras.layers.MaxPooling2D(pool_size=(2,2), strides=(1,1)),\n",
        "    tf.keras.layers.Conv2D(16, (3,3), activation='relu'),\n",
        "    tf.keras.layers.MaxPooling2D(pool_size=(2,2)),\n",
        "    tf.keras.layers.Conv2D(32, (3,3), activation='relu'),\n",
        "    tf.keras.layers.MaxPooling2D(pool_size=(2,2)),\n",
        "    tf.keras.layers.Flatten(),\n",
        "    tf.keras.layers.Dense(64, activation='relu'),\n",
        "    tf.keras.layers.Dropout(0.5),\n",
        "    tf.keras.layers.Dense(4, activation='softmax')\n",
        "])\n",
        "\n",
        "# Lihat struktur model\n",
        "model.summary()\n"
      ],
      "metadata": {
        "id": "UTwK0t8XYAUU",
        "trusted": true,
        "execution": {
          "iopub.status.busy": "2025-03-11T22:22:22.041205Z",
          "iopub.execute_input": "2025-03-11T22:22:22.041489Z",
          "iopub.status.idle": "2025-03-11T22:22:23.236978Z",
          "shell.execute_reply.started": "2025-03-11T22:22:22.041467Z",
          "shell.execute_reply": "2025-03-11T22:22:23.236221Z"
        },
        "colab": {
          "base_uri": "https://localhost:8080/",
          "height": 449
        },
        "outputId": "4646e57a-035b-4615-bd84-50456b22e5f9"
      },
      "outputs": [
        {
          "output_type": "display_data",
          "data": {
            "text/plain": [
              "\u001b[1mModel: \"sequential_1\"\u001b[0m\n"
            ],
            "text/html": [
              "<pre style=\"white-space:pre;overflow-x:auto;line-height:normal;font-family:Menlo,'DejaVu Sans Mono',consolas,'Courier New',monospace\"><span style=\"font-weight: bold\">Model: \"sequential_1\"</span>\n",
              "</pre>\n"
            ]
          },
          "metadata": {}
        },
        {
          "output_type": "display_data",
          "data": {
            "text/plain": [
              "┏━━━━━━━━━━━━━━━━━━━━━━━━━━━━━━━━━━━━━━┳━━━━━━━━━━━━━━━━━━━━━━━━━━━━━┳━━━━━━━━━━━━━━━━━┓\n",
              "┃\u001b[1m \u001b[0m\u001b[1mLayer (type)                        \u001b[0m\u001b[1m \u001b[0m┃\u001b[1m \u001b[0m\u001b[1mOutput Shape               \u001b[0m\u001b[1m \u001b[0m┃\u001b[1m \u001b[0m\u001b[1m        Param #\u001b[0m\u001b[1m \u001b[0m┃\n",
              "┡━━━━━━━━━━━━━━━━━━━━━━━━━━━━━━━━━━━━━━╇━━━━━━━━━━━━━━━━━━━━━━━━━━━━━╇━━━━━━━━━━━━━━━━━┩\n",
              "│ conv2d_3 (\u001b[38;5;33mConv2D\u001b[0m)                    │ (\u001b[38;5;45mNone\u001b[0m, \u001b[38;5;34m178\u001b[0m, \u001b[38;5;34m178\u001b[0m, \u001b[38;5;34m8\u001b[0m)         │             \u001b[38;5;34m224\u001b[0m │\n",
              "├──────────────────────────────────────┼─────────────────────────────┼─────────────────┤\n",
              "│ max_pooling2d_3 (\u001b[38;5;33mMaxPooling2D\u001b[0m)       │ (\u001b[38;5;45mNone\u001b[0m, \u001b[38;5;34m177\u001b[0m, \u001b[38;5;34m177\u001b[0m, \u001b[38;5;34m8\u001b[0m)         │               \u001b[38;5;34m0\u001b[0m │\n",
              "├──────────────────────────────────────┼─────────────────────────────┼─────────────────┤\n",
              "│ conv2d_4 (\u001b[38;5;33mConv2D\u001b[0m)                    │ (\u001b[38;5;45mNone\u001b[0m, \u001b[38;5;34m175\u001b[0m, \u001b[38;5;34m175\u001b[0m, \u001b[38;5;34m16\u001b[0m)        │           \u001b[38;5;34m1,168\u001b[0m │\n",
              "├──────────────────────────────────────┼─────────────────────────────┼─────────────────┤\n",
              "│ max_pooling2d_4 (\u001b[38;5;33mMaxPooling2D\u001b[0m)       │ (\u001b[38;5;45mNone\u001b[0m, \u001b[38;5;34m87\u001b[0m, \u001b[38;5;34m87\u001b[0m, \u001b[38;5;34m16\u001b[0m)          │               \u001b[38;5;34m0\u001b[0m │\n",
              "├──────────────────────────────────────┼─────────────────────────────┼─────────────────┤\n",
              "│ conv2d_5 (\u001b[38;5;33mConv2D\u001b[0m)                    │ (\u001b[38;5;45mNone\u001b[0m, \u001b[38;5;34m85\u001b[0m, \u001b[38;5;34m85\u001b[0m, \u001b[38;5;34m32\u001b[0m)          │           \u001b[38;5;34m4,640\u001b[0m │\n",
              "├──────────────────────────────────────┼─────────────────────────────┼─────────────────┤\n",
              "│ max_pooling2d_5 (\u001b[38;5;33mMaxPooling2D\u001b[0m)       │ (\u001b[38;5;45mNone\u001b[0m, \u001b[38;5;34m42\u001b[0m, \u001b[38;5;34m42\u001b[0m, \u001b[38;5;34m32\u001b[0m)          │               \u001b[38;5;34m0\u001b[0m │\n",
              "├──────────────────────────────────────┼─────────────────────────────┼─────────────────┤\n",
              "│ flatten_1 (\u001b[38;5;33mFlatten\u001b[0m)                  │ (\u001b[38;5;45mNone\u001b[0m, \u001b[38;5;34m56448\u001b[0m)               │               \u001b[38;5;34m0\u001b[0m │\n",
              "├──────────────────────────────────────┼─────────────────────────────┼─────────────────┤\n",
              "│ dense_2 (\u001b[38;5;33mDense\u001b[0m)                      │ (\u001b[38;5;45mNone\u001b[0m, \u001b[38;5;34m64\u001b[0m)                  │       \u001b[38;5;34m3,612,736\u001b[0m │\n",
              "├──────────────────────────────────────┼─────────────────────────────┼─────────────────┤\n",
              "│ dropout_1 (\u001b[38;5;33mDropout\u001b[0m)                  │ (\u001b[38;5;45mNone\u001b[0m, \u001b[38;5;34m64\u001b[0m)                  │               \u001b[38;5;34m0\u001b[0m │\n",
              "├──────────────────────────────────────┼─────────────────────────────┼─────────────────┤\n",
              "│ dense_3 (\u001b[38;5;33mDense\u001b[0m)                      │ (\u001b[38;5;45mNone\u001b[0m, \u001b[38;5;34m4\u001b[0m)                   │             \u001b[38;5;34m260\u001b[0m │\n",
              "└──────────────────────────────────────┴─────────────────────────────┴─────────────────┘\n"
            ],
            "text/html": [
              "<pre style=\"white-space:pre;overflow-x:auto;line-height:normal;font-family:Menlo,'DejaVu Sans Mono',consolas,'Courier New',monospace\">┏━━━━━━━━━━━━━━━━━━━━━━━━━━━━━━━━━━━━━━┳━━━━━━━━━━━━━━━━━━━━━━━━━━━━━┳━━━━━━━━━━━━━━━━━┓\n",
              "┃<span style=\"font-weight: bold\"> Layer (type)                         </span>┃<span style=\"font-weight: bold\"> Output Shape                </span>┃<span style=\"font-weight: bold\">         Param # </span>┃\n",
              "┡━━━━━━━━━━━━━━━━━━━━━━━━━━━━━━━━━━━━━━╇━━━━━━━━━━━━━━━━━━━━━━━━━━━━━╇━━━━━━━━━━━━━━━━━┩\n",
              "│ conv2d_3 (<span style=\"color: #0087ff; text-decoration-color: #0087ff\">Conv2D</span>)                    │ (<span style=\"color: #00d7ff; text-decoration-color: #00d7ff\">None</span>, <span style=\"color: #00af00; text-decoration-color: #00af00\">178</span>, <span style=\"color: #00af00; text-decoration-color: #00af00\">178</span>, <span style=\"color: #00af00; text-decoration-color: #00af00\">8</span>)         │             <span style=\"color: #00af00; text-decoration-color: #00af00\">224</span> │\n",
              "├──────────────────────────────────────┼─────────────────────────────┼─────────────────┤\n",
              "│ max_pooling2d_3 (<span style=\"color: #0087ff; text-decoration-color: #0087ff\">MaxPooling2D</span>)       │ (<span style=\"color: #00d7ff; text-decoration-color: #00d7ff\">None</span>, <span style=\"color: #00af00; text-decoration-color: #00af00\">177</span>, <span style=\"color: #00af00; text-decoration-color: #00af00\">177</span>, <span style=\"color: #00af00; text-decoration-color: #00af00\">8</span>)         │               <span style=\"color: #00af00; text-decoration-color: #00af00\">0</span> │\n",
              "├──────────────────────────────────────┼─────────────────────────────┼─────────────────┤\n",
              "│ conv2d_4 (<span style=\"color: #0087ff; text-decoration-color: #0087ff\">Conv2D</span>)                    │ (<span style=\"color: #00d7ff; text-decoration-color: #00d7ff\">None</span>, <span style=\"color: #00af00; text-decoration-color: #00af00\">175</span>, <span style=\"color: #00af00; text-decoration-color: #00af00\">175</span>, <span style=\"color: #00af00; text-decoration-color: #00af00\">16</span>)        │           <span style=\"color: #00af00; text-decoration-color: #00af00\">1,168</span> │\n",
              "├──────────────────────────────────────┼─────────────────────────────┼─────────────────┤\n",
              "│ max_pooling2d_4 (<span style=\"color: #0087ff; text-decoration-color: #0087ff\">MaxPooling2D</span>)       │ (<span style=\"color: #00d7ff; text-decoration-color: #00d7ff\">None</span>, <span style=\"color: #00af00; text-decoration-color: #00af00\">87</span>, <span style=\"color: #00af00; text-decoration-color: #00af00\">87</span>, <span style=\"color: #00af00; text-decoration-color: #00af00\">16</span>)          │               <span style=\"color: #00af00; text-decoration-color: #00af00\">0</span> │\n",
              "├──────────────────────────────────────┼─────────────────────────────┼─────────────────┤\n",
              "│ conv2d_5 (<span style=\"color: #0087ff; text-decoration-color: #0087ff\">Conv2D</span>)                    │ (<span style=\"color: #00d7ff; text-decoration-color: #00d7ff\">None</span>, <span style=\"color: #00af00; text-decoration-color: #00af00\">85</span>, <span style=\"color: #00af00; text-decoration-color: #00af00\">85</span>, <span style=\"color: #00af00; text-decoration-color: #00af00\">32</span>)          │           <span style=\"color: #00af00; text-decoration-color: #00af00\">4,640</span> │\n",
              "├──────────────────────────────────────┼─────────────────────────────┼─────────────────┤\n",
              "│ max_pooling2d_5 (<span style=\"color: #0087ff; text-decoration-color: #0087ff\">MaxPooling2D</span>)       │ (<span style=\"color: #00d7ff; text-decoration-color: #00d7ff\">None</span>, <span style=\"color: #00af00; text-decoration-color: #00af00\">42</span>, <span style=\"color: #00af00; text-decoration-color: #00af00\">42</span>, <span style=\"color: #00af00; text-decoration-color: #00af00\">32</span>)          │               <span style=\"color: #00af00; text-decoration-color: #00af00\">0</span> │\n",
              "├──────────────────────────────────────┼─────────────────────────────┼─────────────────┤\n",
              "│ flatten_1 (<span style=\"color: #0087ff; text-decoration-color: #0087ff\">Flatten</span>)                  │ (<span style=\"color: #00d7ff; text-decoration-color: #00d7ff\">None</span>, <span style=\"color: #00af00; text-decoration-color: #00af00\">56448</span>)               │               <span style=\"color: #00af00; text-decoration-color: #00af00\">0</span> │\n",
              "├──────────────────────────────────────┼─────────────────────────────┼─────────────────┤\n",
              "│ dense_2 (<span style=\"color: #0087ff; text-decoration-color: #0087ff\">Dense</span>)                      │ (<span style=\"color: #00d7ff; text-decoration-color: #00d7ff\">None</span>, <span style=\"color: #00af00; text-decoration-color: #00af00\">64</span>)                  │       <span style=\"color: #00af00; text-decoration-color: #00af00\">3,612,736</span> │\n",
              "├──────────────────────────────────────┼─────────────────────────────┼─────────────────┤\n",
              "│ dropout_1 (<span style=\"color: #0087ff; text-decoration-color: #0087ff\">Dropout</span>)                  │ (<span style=\"color: #00d7ff; text-decoration-color: #00d7ff\">None</span>, <span style=\"color: #00af00; text-decoration-color: #00af00\">64</span>)                  │               <span style=\"color: #00af00; text-decoration-color: #00af00\">0</span> │\n",
              "├──────────────────────────────────────┼─────────────────────────────┼─────────────────┤\n",
              "│ dense_3 (<span style=\"color: #0087ff; text-decoration-color: #0087ff\">Dense</span>)                      │ (<span style=\"color: #00d7ff; text-decoration-color: #00d7ff\">None</span>, <span style=\"color: #00af00; text-decoration-color: #00af00\">4</span>)                   │             <span style=\"color: #00af00; text-decoration-color: #00af00\">260</span> │\n",
              "└──────────────────────────────────────┴─────────────────────────────┴─────────────────┘\n",
              "</pre>\n"
            ]
          },
          "metadata": {}
        },
        {
          "output_type": "display_data",
          "data": {
            "text/plain": [
              "\u001b[1m Total params: \u001b[0m\u001b[38;5;34m3,619,028\u001b[0m (13.81 MB)\n"
            ],
            "text/html": [
              "<pre style=\"white-space:pre;overflow-x:auto;line-height:normal;font-family:Menlo,'DejaVu Sans Mono',consolas,'Courier New',monospace\"><span style=\"font-weight: bold\"> Total params: </span><span style=\"color: #00af00; text-decoration-color: #00af00\">3,619,028</span> (13.81 MB)\n",
              "</pre>\n"
            ]
          },
          "metadata": {}
        },
        {
          "output_type": "display_data",
          "data": {
            "text/plain": [
              "\u001b[1m Trainable params: \u001b[0m\u001b[38;5;34m3,619,028\u001b[0m (13.81 MB)\n"
            ],
            "text/html": [
              "<pre style=\"white-space:pre;overflow-x:auto;line-height:normal;font-family:Menlo,'DejaVu Sans Mono',consolas,'Courier New',monospace\"><span style=\"font-weight: bold\"> Trainable params: </span><span style=\"color: #00af00; text-decoration-color: #00af00\">3,619,028</span> (13.81 MB)\n",
              "</pre>\n"
            ]
          },
          "metadata": {}
        },
        {
          "output_type": "display_data",
          "data": {
            "text/plain": [
              "\u001b[1m Non-trainable params: \u001b[0m\u001b[38;5;34m0\u001b[0m (0.00 B)\n"
            ],
            "text/html": [
              "<pre style=\"white-space:pre;overflow-x:auto;line-height:normal;font-family:Menlo,'DejaVu Sans Mono',consolas,'Courier New',monospace\"><span style=\"font-weight: bold\"> Non-trainable params: </span><span style=\"color: #00af00; text-decoration-color: #00af00\">0</span> (0.00 B)\n",
              "</pre>\n"
            ]
          },
          "metadata": {}
        }
      ],
      "execution_count": null
    },
    {
      "cell_type": "code",
      "source": [
        "model.compile(loss ='categorical_crossentropy',\n",
        "                  optimizer=tf.keras.optimizers.Adam(),\n",
        "                  metrics=['accuracy'])"
      ],
      "metadata": {
        "trusted": true,
        "execution": {
          "iopub.status.busy": "2025-03-11T22:22:23.237882Z",
          "iopub.execute_input": "2025-03-11T22:22:23.238121Z",
          "iopub.status.idle": "2025-03-11T22:22:23.249527Z",
          "shell.execute_reply.started": "2025-03-11T22:22:23.238099Z",
          "shell.execute_reply": "2025-03-11T22:22:23.248931Z"
        },
        "id": "Z7Auagdi_f17"
      },
      "outputs": [],
      "execution_count": null
    },
    {
      "cell_type": "code",
      "source": [
        "# Training model\n",
        "history = model.fit(train_generator,\n",
        "                    epochs=100,\n",
        "                    validation_data = validation_generator,\n",
        "                    callbacks = [SaveBestModelCallback(), early_stopping])"
      ],
      "metadata": {
        "trusted": true,
        "execution": {
          "iopub.status.busy": "2025-03-11T22:22:23.250262Z",
          "iopub.execute_input": "2025-03-11T22:22:23.250492Z",
          "iopub.status.idle": "2025-03-11T23:15:19.172444Z",
          "shell.execute_reply.started": "2025-03-11T22:22:23.250472Z",
          "shell.execute_reply": "2025-03-11T23:15:19.171427Z"
        },
        "colab": {
          "base_uri": "https://localhost:8080/"
        },
        "id": "CMoZ9Okw_f17",
        "outputId": "930f611a-8d56-49c1-eeea-62781c8072be"
      },
      "outputs": [
        {
          "output_type": "stream",
          "name": "stdout",
          "text": [
            "Epoch 1/100\n",
            "\u001b[1m213/213\u001b[0m \u001b[32m━━━━━━━━━━━━━━━━━━━━\u001b[0m\u001b[37m\u001b[0m \u001b[1m0s\u001b[0m 200ms/step - accuracy: 0.3607 - loss: 1.2956\n",
            "Best model saved at epoch 1 with val_accuracy: 0.6117\n",
            "\u001b[1m213/213\u001b[0m \u001b[32m━━━━━━━━━━━━━━━━━━━━\u001b[0m\u001b[37m\u001b[0m \u001b[1m63s\u001b[0m 257ms/step - accuracy: 0.3610 - loss: 1.2950 - val_accuracy: 0.6117 - val_loss: 0.8468\n",
            "Epoch 2/100\n",
            "\u001b[1m213/213\u001b[0m \u001b[32m━━━━━━━━━━━━━━━━━━━━\u001b[0m\u001b[37m\u001b[0m \u001b[1m0s\u001b[0m 179ms/step - accuracy: 0.5333 - loss: 0.9386\n",
            "Best model saved at epoch 2 with val_accuracy: 0.7029\n",
            "\u001b[1m213/213\u001b[0m \u001b[32m━━━━━━━━━━━━━━━━━━━━\u001b[0m\u001b[37m\u001b[0m \u001b[1m48s\u001b[0m 223ms/step - accuracy: 0.5333 - loss: 0.9385 - val_accuracy: 0.7029 - val_loss: 0.7304\n",
            "Epoch 3/100\n",
            "\u001b[1m213/213\u001b[0m \u001b[32m━━━━━━━━━━━━━━━━━━━━\u001b[0m\u001b[37m\u001b[0m \u001b[1m0s\u001b[0m 182ms/step - accuracy: 0.5863 - loss: 0.8423\n",
            "Best model saved at epoch 3 with val_accuracy: 0.7312\n",
            "\u001b[1m213/213\u001b[0m \u001b[32m━━━━━━━━━━━━━━━━━━━━\u001b[0m\u001b[37m\u001b[0m \u001b[1m48s\u001b[0m 226ms/step - accuracy: 0.5863 - loss: 0.8423 - val_accuracy: 0.7312 - val_loss: 0.6289\n",
            "Epoch 4/100\n",
            "\u001b[1m213/213\u001b[0m \u001b[32m━━━━━━━━━━━━━━━━━━━━\u001b[0m\u001b[37m\u001b[0m \u001b[1m0s\u001b[0m 185ms/step - accuracy: 0.5995 - loss: 0.7895\n",
            "Best model saved at epoch 4 with val_accuracy: 0.7531\n",
            "\u001b[1m213/213\u001b[0m \u001b[32m━━━━━━━━━━━━━━━━━━━━\u001b[0m\u001b[37m\u001b[0m \u001b[1m49s\u001b[0m 230ms/step - accuracy: 0.5995 - loss: 0.7895 - val_accuracy: 0.7531 - val_loss: 0.5812\n",
            "Epoch 5/100\n",
            "\u001b[1m213/213\u001b[0m \u001b[32m━━━━━━━━━━━━━━━━━━━━\u001b[0m\u001b[37m\u001b[0m \u001b[1m49s\u001b[0m 230ms/step - accuracy: 0.6136 - loss: 0.7420 - val_accuracy: 0.7309 - val_loss: 0.5971\n",
            "Epoch 6/100\n",
            "\u001b[1m213/213\u001b[0m \u001b[32m━━━━━━━━━━━━━━━━━━━━\u001b[0m\u001b[37m\u001b[0m \u001b[1m0s\u001b[0m 185ms/step - accuracy: 0.6267 - loss: 0.7099\n",
            "Best model saved at epoch 6 with val_accuracy: 0.7916\n",
            "\u001b[1m213/213\u001b[0m \u001b[32m━━━━━━━━━━━━━━━━━━━━\u001b[0m\u001b[37m\u001b[0m \u001b[1m49s\u001b[0m 229ms/step - accuracy: 0.6267 - loss: 0.7098 - val_accuracy: 0.7916 - val_loss: 0.5043\n",
            "Epoch 7/100\n",
            "\u001b[1m213/213\u001b[0m \u001b[32m━━━━━━━━━━━━━━━━━━━━\u001b[0m\u001b[37m\u001b[0m \u001b[1m0s\u001b[0m 184ms/step - accuracy: 0.6375 - loss: 0.6842\n",
            "Best model saved at epoch 7 with val_accuracy: 0.7940\n",
            "\u001b[1m213/213\u001b[0m \u001b[32m━━━━━━━━━━━━━━━━━━━━\u001b[0m\u001b[37m\u001b[0m \u001b[1m49s\u001b[0m 228ms/step - accuracy: 0.6375 - loss: 0.6842 - val_accuracy: 0.7940 - val_loss: 0.4942\n",
            "Epoch 8/100\n",
            "\u001b[1m213/213\u001b[0m \u001b[32m━━━━━━━━━━━━━━━━━━━━\u001b[0m\u001b[37m\u001b[0m \u001b[1m0s\u001b[0m 185ms/step - accuracy: 0.6601 - loss: 0.6449\n",
            "Best model saved at epoch 8 with val_accuracy: 0.7956\n",
            "\u001b[1m213/213\u001b[0m \u001b[32m━━━━━━━━━━━━━━━━━━━━\u001b[0m\u001b[37m\u001b[0m \u001b[1m49s\u001b[0m 230ms/step - accuracy: 0.6601 - loss: 0.6449 - val_accuracy: 0.7956 - val_loss: 0.4560\n",
            "Epoch 9/100\n",
            "\u001b[1m213/213\u001b[0m \u001b[32m━━━━━━━━━━━━━━━━━━━━\u001b[0m\u001b[37m\u001b[0m \u001b[1m0s\u001b[0m 185ms/step - accuracy: 0.6624 - loss: 0.6291\n",
            "Best model saved at epoch 9 with val_accuracy: 0.8209\n",
            "\u001b[1m213/213\u001b[0m \u001b[32m━━━━━━━━━━━━━━━━━━━━\u001b[0m\u001b[37m\u001b[0m \u001b[1m49s\u001b[0m 229ms/step - accuracy: 0.6624 - loss: 0.6291 - val_accuracy: 0.8209 - val_loss: 0.4369\n",
            "Epoch 10/100\n",
            "\u001b[1m213/213\u001b[0m \u001b[32m━━━━━━━━━━━━━━━━━━━━\u001b[0m\u001b[37m\u001b[0m \u001b[1m0s\u001b[0m 183ms/step - accuracy: 0.6761 - loss: 0.6047\n",
            "Best model saved at epoch 10 with val_accuracy: 0.8215\n",
            "\u001b[1m213/213\u001b[0m \u001b[32m━━━━━━━━━━━━━━━━━━━━\u001b[0m\u001b[37m\u001b[0m \u001b[1m49s\u001b[0m 228ms/step - accuracy: 0.6761 - loss: 0.6047 - val_accuracy: 0.8215 - val_loss: 0.4348\n",
            "Epoch 11/100\n",
            "\u001b[1m213/213\u001b[0m \u001b[32m━━━━━━━━━━━━━━━━━━━━\u001b[0m\u001b[37m\u001b[0m \u001b[1m0s\u001b[0m 184ms/step - accuracy: 0.6822 - loss: 0.5996\n",
            "Best model saved at epoch 11 with val_accuracy: 0.8296\n",
            "\u001b[1m213/213\u001b[0m \u001b[32m━━━━━━━━━━━━━━━━━━━━\u001b[0m\u001b[37m\u001b[0m \u001b[1m49s\u001b[0m 228ms/step - accuracy: 0.6822 - loss: 0.5995 - val_accuracy: 0.8296 - val_loss: 0.4078\n",
            "Epoch 12/100\n",
            "\u001b[1m213/213\u001b[0m \u001b[32m━━━━━━━━━━━━━━━━━━━━\u001b[0m\u001b[37m\u001b[0m \u001b[1m48s\u001b[0m 225ms/step - accuracy: 0.6881 - loss: 0.5764 - val_accuracy: 0.8243 - val_loss: 0.4396\n",
            "Epoch 13/100\n",
            "\u001b[1m213/213\u001b[0m \u001b[32m━━━━━━━━━━━━━━━━━━━━\u001b[0m\u001b[37m\u001b[0m \u001b[1m47s\u001b[0m 222ms/step - accuracy: 0.6937 - loss: 0.5725 - val_accuracy: 0.8281 - val_loss: 0.4386\n",
            "Epoch 14/100\n",
            "\u001b[1m213/213\u001b[0m \u001b[32m━━━━━━━━━━━━━━━━━━━━\u001b[0m\u001b[37m\u001b[0m \u001b[1m0s\u001b[0m 181ms/step - accuracy: 0.6980 - loss: 0.5626\n",
            "Best model saved at epoch 14 with val_accuracy: 0.8331\n",
            "\u001b[1m213/213\u001b[0m \u001b[32m━━━━━━━━━━━━━━━━━━━━\u001b[0m\u001b[37m\u001b[0m \u001b[1m49s\u001b[0m 230ms/step - accuracy: 0.6980 - loss: 0.5626 - val_accuracy: 0.8331 - val_loss: 0.4165\n",
            "Epoch 15/100\n",
            "\u001b[1m213/213\u001b[0m \u001b[32m━━━━━━━━━━━━━━━━━━━━\u001b[0m\u001b[37m\u001b[0m \u001b[1m0s\u001b[0m 182ms/step - accuracy: 0.7095 - loss: 0.5489\n",
            "Best model saved at epoch 15 with val_accuracy: 0.8452\n",
            "\u001b[1m213/213\u001b[0m \u001b[32m━━━━━━━━━━━━━━━━━━━━\u001b[0m\u001b[37m\u001b[0m \u001b[1m48s\u001b[0m 225ms/step - accuracy: 0.7095 - loss: 0.5489 - val_accuracy: 0.8452 - val_loss: 0.3933\n",
            "Epoch 16/100\n",
            "\u001b[1m213/213\u001b[0m \u001b[32m━━━━━━━━━━━━━━━━━━━━\u001b[0m\u001b[37m\u001b[0m \u001b[1m0s\u001b[0m 182ms/step - accuracy: 0.7207 - loss: 0.5322\n",
            "Best model saved at epoch 16 with val_accuracy: 0.8458\n",
            "\u001b[1m213/213\u001b[0m \u001b[32m━━━━━━━━━━━━━━━━━━━━\u001b[0m\u001b[37m\u001b[0m \u001b[1m49s\u001b[0m 231ms/step - accuracy: 0.7207 - loss: 0.5322 - val_accuracy: 0.8458 - val_loss: 0.4113\n",
            "Epoch 17/100\n",
            "\u001b[1m213/213\u001b[0m \u001b[32m━━━━━━━━━━━━━━━━━━━━\u001b[0m\u001b[37m\u001b[0m \u001b[1m0s\u001b[0m 183ms/step - accuracy: 0.7232 - loss: 0.5315\n",
            "Best model saved at epoch 17 with val_accuracy: 0.8477\n",
            "\u001b[1m213/213\u001b[0m \u001b[32m━━━━━━━━━━━━━━━━━━━━\u001b[0m\u001b[37m\u001b[0m \u001b[1m48s\u001b[0m 227ms/step - accuracy: 0.7232 - loss: 0.5315 - val_accuracy: 0.8477 - val_loss: 0.3963\n",
            "Epoch 18/100\n",
            "\u001b[1m213/213\u001b[0m \u001b[32m━━━━━━━━━━━━━━━━━━━━\u001b[0m\u001b[37m\u001b[0m \u001b[1m49s\u001b[0m 231ms/step - accuracy: 0.7391 - loss: 0.5201 - val_accuracy: 0.8476 - val_loss: 0.3888\n",
            "Epoch 19/100\n",
            "\u001b[1m213/213\u001b[0m \u001b[32m━━━━━━━━━━━━━━━━━━━━\u001b[0m\u001b[37m\u001b[0m \u001b[1m48s\u001b[0m 226ms/step - accuracy: 0.7398 - loss: 0.5130 - val_accuracy: 0.8428 - val_loss: 0.3990\n",
            "Epoch 20/100\n",
            "\u001b[1m213/213\u001b[0m \u001b[32m━━━━━━━━━━━━━━━━━━━━\u001b[0m\u001b[37m\u001b[0m \u001b[1m0s\u001b[0m 183ms/step - accuracy: 0.7565 - loss: 0.4962\n",
            "Best model saved at epoch 20 with val_accuracy: 0.8640\n",
            "\u001b[1m213/213\u001b[0m \u001b[32m━━━━━━━━━━━━━━━━━━━━\u001b[0m\u001b[37m\u001b[0m \u001b[1m48s\u001b[0m 227ms/step - accuracy: 0.7565 - loss: 0.4961 - val_accuracy: 0.8640 - val_loss: 0.4023\n",
            "Epoch 21/100\n",
            "\u001b[1m213/213\u001b[0m \u001b[32m━━━━━━━━━━━━━━━━━━━━\u001b[0m\u001b[37m\u001b[0m \u001b[1m49s\u001b[0m 228ms/step - accuracy: 0.7653 - loss: 0.4815 - val_accuracy: 0.8587 - val_loss: 0.3888\n",
            "Epoch 22/100\n",
            "\u001b[1m213/213\u001b[0m \u001b[32m━━━━━━━━━━━━━━━━━━━━\u001b[0m\u001b[37m\u001b[0m \u001b[1m0s\u001b[0m 180ms/step - accuracy: 0.7745 - loss: 0.4665\n",
            "Best model saved at epoch 22 with val_accuracy: 0.8643\n",
            "\u001b[1m213/213\u001b[0m \u001b[32m━━━━━━━━━━━━━━━━━━━━\u001b[0m\u001b[37m\u001b[0m \u001b[1m48s\u001b[0m 224ms/step - accuracy: 0.7745 - loss: 0.4666 - val_accuracy: 0.8643 - val_loss: 0.3959\n",
            "Epoch 23/100\n",
            "\u001b[1m213/213\u001b[0m \u001b[32m━━━━━━━━━━━━━━━━━━━━\u001b[0m\u001b[37m\u001b[0m \u001b[1m82s\u001b[0m 226ms/step - accuracy: 0.7778 - loss: 0.4695 - val_accuracy: 0.8618 - val_loss: 0.3894\n",
            "Epoch 24/100\n",
            "\u001b[1m213/213\u001b[0m \u001b[32m━━━━━━━━━━━━━━━━━━━━\u001b[0m\u001b[37m\u001b[0m \u001b[1m81s\u001b[0m 221ms/step - accuracy: 0.7747 - loss: 0.4626 - val_accuracy: 0.8595 - val_loss: 0.4006\n",
            "Epoch 25/100\n",
            "\u001b[1m213/213\u001b[0m \u001b[32m━━━━━━━━━━━━━━━━━━━━\u001b[0m\u001b[37m\u001b[0m \u001b[1m48s\u001b[0m 226ms/step - accuracy: 0.7870 - loss: 0.4440 - val_accuracy: 0.8639 - val_loss: 0.4259\n",
            "Epoch 26/100\n",
            "\u001b[1m213/213\u001b[0m \u001b[32m━━━━━━━━━━━━━━━━━━━━\u001b[0m\u001b[37m\u001b[0m \u001b[1m0s\u001b[0m 183ms/step - accuracy: 0.7989 - loss: 0.4316\n",
            "Best model saved at epoch 26 with val_accuracy: 0.8668\n",
            "\u001b[1m213/213\u001b[0m \u001b[32m━━━━━━━━━━━━━━━━━━━━\u001b[0m\u001b[37m\u001b[0m \u001b[1m48s\u001b[0m 224ms/step - accuracy: 0.7988 - loss: 0.4317 - val_accuracy: 0.8668 - val_loss: 0.3946\n",
            "Epoch 27/100\n",
            "\u001b[1m213/213\u001b[0m \u001b[32m━━━━━━━━━━━━━━━━━━━━\u001b[0m\u001b[37m\u001b[0m \u001b[1m48s\u001b[0m 226ms/step - accuracy: 0.7887 - loss: 0.4449 - val_accuracy: 0.8599 - val_loss: 0.4380\n",
            "Epoch 28/100\n",
            "\u001b[1m213/213\u001b[0m \u001b[32m━━━━━━━━━━━━━━━━━━━━\u001b[0m\u001b[37m\u001b[0m \u001b[1m49s\u001b[0m 228ms/step - accuracy: 0.7965 - loss: 0.4313 - val_accuracy: 0.8642 - val_loss: 0.3890\n",
            "Epoch 29/100\n",
            "\u001b[1m213/213\u001b[0m \u001b[32m━━━━━━━━━━━━━━━━━━━━\u001b[0m\u001b[37m\u001b[0m \u001b[1m48s\u001b[0m 224ms/step - accuracy: 0.7977 - loss: 0.4266 - val_accuracy: 0.8654 - val_loss: 0.4172\n",
            "Epoch 30/100\n",
            "\u001b[1m213/213\u001b[0m \u001b[32m━━━━━━━━━━━━━━━━━━━━\u001b[0m\u001b[37m\u001b[0m \u001b[1m0s\u001b[0m 183ms/step - accuracy: 0.8035 - loss: 0.4206\n",
            "Best model saved at epoch 30 with val_accuracy: 0.8695\n",
            "\u001b[1m213/213\u001b[0m \u001b[32m━━━━━━━━━━━━━━━━━━━━\u001b[0m\u001b[37m\u001b[0m \u001b[1m48s\u001b[0m 226ms/step - accuracy: 0.8035 - loss: 0.4206 - val_accuracy: 0.8695 - val_loss: 0.3970\n",
            "Epoch 31/100\n",
            "\u001b[1m213/213\u001b[0m \u001b[32m━━━━━━━━━━━━━━━━━━━━\u001b[0m\u001b[37m\u001b[0m \u001b[1m47s\u001b[0m 222ms/step - accuracy: 0.8058 - loss: 0.4099 - val_accuracy: 0.8664 - val_loss: 0.4216\n",
            "Epoch 32/100\n",
            "\u001b[1m213/213\u001b[0m \u001b[32m━━━━━━━━━━━━━━━━━━━━\u001b[0m\u001b[37m\u001b[0m \u001b[1m0s\u001b[0m 180ms/step - accuracy: 0.8120 - loss: 0.3992\n",
            "Best model saved at epoch 32 with val_accuracy: 0.8721\n",
            "\u001b[1m213/213\u001b[0m \u001b[32m━━━━━━━━━━━━━━━━━━━━\u001b[0m\u001b[37m\u001b[0m \u001b[1m48s\u001b[0m 223ms/step - accuracy: 0.8120 - loss: 0.3993 - val_accuracy: 0.8721 - val_loss: 0.3938\n",
            "Epoch 33/100\n",
            "\u001b[1m213/213\u001b[0m \u001b[32m━━━━━━━━━━━━━━━━━━━━\u001b[0m\u001b[37m\u001b[0m \u001b[1m48s\u001b[0m 225ms/step - accuracy: 0.8122 - loss: 0.4091 - val_accuracy: 0.8687 - val_loss: 0.4692\n",
            "Epoch 34/100\n",
            "\u001b[1m213/213\u001b[0m \u001b[32m━━━━━━━━━━━━━━━━━━━━\u001b[0m\u001b[37m\u001b[0m \u001b[1m48s\u001b[0m 224ms/step - accuracy: 0.8083 - loss: 0.4061 - val_accuracy: 0.8704 - val_loss: 0.4176\n",
            "Epoch 35/100\n",
            "\u001b[1m213/213\u001b[0m \u001b[32m━━━━━━━━━━━━━━━━━━━━\u001b[0m\u001b[37m\u001b[0m \u001b[1m0s\u001b[0m 182ms/step - accuracy: 0.8188 - loss: 0.3973\n",
            "Best model saved at epoch 35 with val_accuracy: 0.8732\n",
            "\u001b[1m213/213\u001b[0m \u001b[32m━━━━━━━━━━━━━━━━━━━━\u001b[0m\u001b[37m\u001b[0m \u001b[1m48s\u001b[0m 226ms/step - accuracy: 0.8187 - loss: 0.3974 - val_accuracy: 0.8732 - val_loss: 0.4530\n",
            "Epoch 36/100\n",
            "\u001b[1m213/213\u001b[0m \u001b[32m━━━━━━━━━━━━━━━━━━━━\u001b[0m\u001b[37m\u001b[0m \u001b[1m82s\u001b[0m 224ms/step - accuracy: 0.8126 - loss: 0.3948 - val_accuracy: 0.8727 - val_loss: 0.4397\n",
            "Epoch 37/100\n",
            "\u001b[1m213/213\u001b[0m \u001b[32m━━━━━━━━━━━━━━━━━━━━\u001b[0m\u001b[37m\u001b[0m \u001b[1m47s\u001b[0m 222ms/step - accuracy: 0.8149 - loss: 0.4009 - val_accuracy: 0.8661 - val_loss: 0.4698\n",
            "Epoch 38/100\n",
            "\u001b[1m213/213\u001b[0m \u001b[32m━━━━━━━━━━━━━━━━━━━━\u001b[0m\u001b[37m\u001b[0m \u001b[1m0s\u001b[0m 182ms/step - accuracy: 0.8216 - loss: 0.3969\n",
            "Best model saved at epoch 38 with val_accuracy: 0.8743\n",
            "\u001b[1m213/213\u001b[0m \u001b[32m━━━━━━━━━━━━━━━━━━━━\u001b[0m\u001b[37m\u001b[0m \u001b[1m50s\u001b[0m 232ms/step - accuracy: 0.8216 - loss: 0.3969 - val_accuracy: 0.8743 - val_loss: 0.4880\n",
            "Epoch 39/100\n",
            "\u001b[1m213/213\u001b[0m \u001b[32m━━━━━━━━━━━━━━━━━━━━\u001b[0m\u001b[37m\u001b[0m \u001b[1m49s\u001b[0m 231ms/step - accuracy: 0.8160 - loss: 0.3941 - val_accuracy: 0.8661 - val_loss: 0.4960\n",
            "Epoch 40/100\n",
            "\u001b[1m213/213\u001b[0m \u001b[32m━━━━━━━━━━━━━━━━━━━━\u001b[0m\u001b[37m\u001b[0m \u001b[1m48s\u001b[0m 224ms/step - accuracy: 0.8166 - loss: 0.3956 - val_accuracy: 0.8717 - val_loss: 0.4598\n",
            "Epoch 41/100\n",
            "\u001b[1m213/213\u001b[0m \u001b[32m━━━━━━━━━━━━━━━━━━━━\u001b[0m\u001b[37m\u001b[0m \u001b[1m83s\u001b[0m 229ms/step - accuracy: 0.8168 - loss: 0.3970 - val_accuracy: 0.8699 - val_loss: 0.4396\n",
            "Epoch 42/100\n",
            "\u001b[1m213/213\u001b[0m \u001b[32m━━━━━━━━━━━━━━━━━━━━\u001b[0m\u001b[37m\u001b[0m \u001b[1m48s\u001b[0m 225ms/step - accuracy: 0.8203 - loss: 0.3905 - val_accuracy: 0.8696 - val_loss: 0.4935\n",
            "Epoch 43/100\n",
            "\u001b[1m213/213\u001b[0m \u001b[32m━━━━━━━━━━━━━━━━━━━━\u001b[0m\u001b[37m\u001b[0m \u001b[1m48s\u001b[0m 227ms/step - accuracy: 0.8174 - loss: 0.3927 - val_accuracy: 0.8715 - val_loss: 0.4760\n",
            "Epoch 44/100\n",
            "\u001b[1m213/213\u001b[0m \u001b[32m━━━━━━━━━━━━━━━━━━━━\u001b[0m\u001b[37m\u001b[0m \u001b[1m48s\u001b[0m 224ms/step - accuracy: 0.8191 - loss: 0.3891 - val_accuracy: 0.8710 - val_loss: 0.5128\n",
            "Epoch 45/100\n",
            "\u001b[1m213/213\u001b[0m \u001b[32m━━━━━━━━━━━━━━━━━━━━\u001b[0m\u001b[37m\u001b[0m \u001b[1m49s\u001b[0m 230ms/step - accuracy: 0.8204 - loss: 0.3862 - val_accuracy: 0.8687 - val_loss: 0.5058\n",
            "Epoch 46/100\n",
            "\u001b[1m213/213\u001b[0m \u001b[32m━━━━━━━━━━━━━━━━━━━━\u001b[0m\u001b[37m\u001b[0m \u001b[1m49s\u001b[0m 228ms/step - accuracy: 0.8234 - loss: 0.3780 - val_accuracy: 0.8671 - val_loss: 0.4977\n",
            "Epoch 47/100\n",
            "\u001b[1m213/213\u001b[0m \u001b[32m━━━━━━━━━━━━━━━━━━━━\u001b[0m\u001b[37m\u001b[0m \u001b[1m49s\u001b[0m 229ms/step - accuracy: 0.8228 - loss: 0.3846 - val_accuracy: 0.8668 - val_loss: 0.5403\n",
            "Epoch 48/100\n",
            "\u001b[1m213/213\u001b[0m \u001b[32m━━━━━━━━━━━━━━━━━━━━\u001b[0m\u001b[37m\u001b[0m \u001b[1m49s\u001b[0m 228ms/step - accuracy: 0.8294 - loss: 0.3845 - val_accuracy: 0.8645 - val_loss: 0.5410\n"
          ]
        }
      ],
      "execution_count": null
    },
    {
      "cell_type": "markdown",
      "source": [
        "## Evaluasi dan Visualisasi"
      ],
      "metadata": {
        "id": "XctzCfzbYCBK"
      }
    },
    {
      "cell_type": "code",
      "source": [
        "# Fungsi untuk plot akurasi dan loss\n",
        "def plot_training_history(history):\n",
        "    acc = history.history['accuracy']\n",
        "    val_acc = history.history['val_accuracy']\n",
        "    loss = history.history['loss']\n",
        "    val_loss = history.history['val_loss']\n",
        "\n",
        "    epochs_range = range(len(acc))\n",
        "\n",
        "    plt.figure(figsize=(12, 5))\n",
        "\n",
        "    # Plot Akurasi\n",
        "    plt.subplot(1, 2, 1)\n",
        "    plt.plot(epochs_range, acc, label='Training Accuracy')\n",
        "    plt.plot(epochs_range, val_acc, label='Validation Accuracy')\n",
        "    plt.legend(loc='lower right')\n",
        "    plt.title('Training and Validation Accuracy')\n",
        "\n",
        "    # Plot Loss\n",
        "    plt.subplot(1, 2, 2)\n",
        "    plt.plot(epochs_range, loss, label='Training Loss')\n",
        "    plt.plot(epochs_range, val_loss, label='Validation Loss')\n",
        "    plt.legend(loc='upper right')\n",
        "    plt.title('Training and Validation Loss')\n",
        "\n",
        "    plt.show()\n",
        "\n",
        "# Panggil fungsi plot\n",
        "plot_training_history(history)\n"
      ],
      "metadata": {
        "id": "EKk-ScZWYCBK",
        "trusted": true,
        "execution": {
          "iopub.status.busy": "2025-03-11T23:15:19.179529Z",
          "iopub.execute_input": "2025-03-11T23:15:19.179836Z",
          "iopub.status.idle": "2025-03-11T23:15:19.561020Z",
          "shell.execute_reply.started": "2025-03-11T23:15:19.179806Z",
          "shell.execute_reply": "2025-03-11T23:15:19.560054Z"
        },
        "colab": {
          "base_uri": "https://localhost:8080/",
          "height": 468
        },
        "outputId": "e43c5283-04e5-4ac1-fa42-3fb966e20e63"
      },
      "outputs": [
        {
          "output_type": "display_data",
          "data": {
            "text/plain": [
              "<Figure size 1200x500 with 2 Axes>"
            ],
            "image/png": "[encoded data removed]"
          },
          "metadata": {}
        }
      ],
      "execution_count": null
    },
    {
      "cell_type": "code",
      "source": [
        "# Evaluasi model pada test set\n",
        "test_loss, test_accuracy = model.evaluate(test_generator)\n",
        "\n",
        "print(f\"Test Accuracy: {test_accuracy * 100:.2f}%\")\n",
        "print(f\"Test Loss: {test_loss:.4f}\")"
      ],
      "metadata": {
        "colab": {
          "base_uri": "https://localhost:8080/"
        },
        "id": "X7gDIw_iDndy",
        "outputId": "8aeacba8-4129-448d-9a34-b21db9683046"
      },
      "execution_count": null,
      "outputs": [
        {
          "output_type": "stream",
          "name": "stdout",
          "text": [
            "\u001b[1m6400/6400\u001b[0m \u001b[32m━━━━━━━━━━━━━━━━━━━━\u001b[0m\u001b[37m\u001b[0m \u001b[1m19s\u001b[0m 3ms/step - accuracy: 0.9924 - loss: 0.0278\n",
            "Test Accuracy: 98.06%\n",
            "Test Loss: 0.0690\n"
          ]
        }
      ]
    },
    {
      "cell_type": "code",
      "source": [
        "# Prediksi menggunakan model\n",
        "y_pred_probs = model.predict(test_generator)  # Probabilitas prediksi\n",
        "y_pred = np.argmax(y_pred_probs, axis=1)  # Ambil label prediksi\n",
        "\n",
        "# Ambil label asli dari test_generator\n",
        "y_true = test_generator.classes\n",
        "\n",
        "# Buat confusion matrix\n",
        "cm = confusion_matrix(y_true, y_pred)\n",
        "\n",
        "# Visualisasi confusion matrix\n",
        "plt.figure(figsize=(8, 6))\n",
        "sns.heatmap(cm, annot=True, fmt=\"d\", cmap=\"Blues\", xticklabels=test_generator.class_indices.keys(), yticklabels=test_generator.class_indices.keys())\n",
        "plt.xlabel(\"Predicted Label\")\n",
        "plt.ylabel(\"True Label\")\n",
        "plt.title(\"Confusion Matrix\")\n",
        "plt.show()\n",
        "\n",
        "# Print Classification Report\n",
        "print(classification_report(y_true, y_pred, target_names=test_generator.class_indices.keys()))\n"
      ],
      "metadata": {
        "colab": {
          "base_uri": "https://localhost:8080/",
          "height": 782
        },
        "id": "xuEJn6IJKJGS",
        "outputId": "17152f46-2aea-458d-8cb2-77e2684200b5"
      },
      "execution_count": null,
      "outputs": [
        {
          "output_type": "stream",
          "name": "stdout",
          "text": [
            "\u001b[1m6400/6400\u001b[0m \u001b[32m━━━━━━━━━━━━━━━━━━━━\u001b[0m\u001b[37m\u001b[0m \u001b[1m17s\u001b[0m 3ms/step\n"
          ]
        },
        {
          "output_type": "display_data",
          "data": {
            "text/plain": [
              "<Figure size 800x600 with 2 Axes>"
            ],
            "image/png": "[encoded data removed]"
          },
          "metadata": {}
        },
        {
          "output_type": "stream",
          "name": "stdout",
          "text": [
            "                  precision    recall  f1-score   support\n",
            "\n",
            "    MildDemented       0.99      1.00      0.99       896\n",
            "ModerateDemented       1.00      1.00      1.00        64\n",
            "     NonDemented       0.97      0.99      0.98      3200\n",
            "VeryMildDemented       0.99      0.96      0.97      2240\n",
            "\n",
            "        accuracy                           0.98      6400\n",
            "       macro avg       0.99      0.99      0.99      6400\n",
            "    weighted avg       0.98      0.98      0.98      6400\n",
            "\n"
          ]
        }
      ]
    },
    {
      "cell_type": "markdown",
      "source": [
        "## Konversi Model"
      ],
      "metadata": {
        "id": "y_fIsUogYFSk"
      }
    },
    {
      "cell_type": "code",
      "source": [
        "save_path = 'saved_model/'\n",
        "tf.saved_model.save(model, save_path)"
      ],
      "metadata": {
        "id": "hZvGBpYoYFSl",
        "trusted": true
      },
      "outputs": [],
      "execution_count": null
    },
    {
      "cell_type": "code",
      "source": [
        "!zip -r /content/model_Alzheimer.zip /content/saved_model"
      ],
      "metadata": {
        "colab": {
          "base_uri": "https://localhost:8080/"
        },
        "id": "ICFLuSRNKBmA",
        "outputId": "5baa0676-3c6c-48ce-a2ab-eb57aa56a3d3"
      },
      "execution_count": null,
      "outputs": [
        {
          "output_type": "stream",
          "name": "stdout",
          "text": [
            "  adding: content/saved_model/ (stored 0%)\n",
            "  adding: content/saved_model/variables/ (stored 0%)\n",
            "  adding: content/saved_model/variables/variables.index (deflated 62%)\n",
            "  adding: content/saved_model/variables/variables.data-00000-of-00001 (deflated 37%)\n",
            "  adding: content/saved_model/assets/ (stored 0%)\n",
            "  adding: content/saved_model/fingerprint.pb (stored 0%)\n",
            "  adding: content/saved_model/saved_model.pb (deflated 87%)\n"
          ]
        }
      ]
    }
  ]
}